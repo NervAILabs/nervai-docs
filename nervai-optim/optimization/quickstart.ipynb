{
 "cells": [
  {
   "cell_type": "code",
   "execution_count": null,
   "metadata": {},
   "outputs": [],
   "source": [
    "from torchvision import resnet18\n",
    "\n",
    "model = resnet18()\n",
    "kwargs = {}\n",
    "\n",
    "from nervai_optim.optimizer import optimize\n",
    "\n",
    "optimized_model = optimize(\n",
    "    model,  # torch.nn.Module object\n",
    "    method=\"Prune|Quantize\",\n",
    "    strategy=\"Name\",  # name of the pruning/quantization strategy\n",
    "    **kwargs  # strategy-specific parameters\n",
    ")"
   ]
  },
  {
   "cell_type": "code",
   "execution_count": null,
   "metadata": {},
   "outputs": [],
   "source": [
    "from nervai_optim.optimizer import build_strategy, optimize\n",
    "\n",
    "# Define an optimization pipeline.\n",
    "pipeline = [\n",
    "    build_strategy(method=\"Prune\", strategy=\"RandomPruning\", **kwargs),\n",
    "    build_strategy(method=\"Quantize\", strategy=\"WeightBiasQuantization\", **kwargs),\n",
    "]\n",
    "\n",
    "# Apply optimization.\n",
    "optimized_model = optimize(\n",
    "    model,  # torch.nn.Module object\n",
    "    method=pipeline,  # applies in a sequence\n",
    ")\n",
    "\n",
    "\n",
    "from nervai_optim.optimizer.pruning import list_strategies"
   ]
  }
 ],
 "metadata": {
  "language_info": {
   "name": "python"
  }
 },
 "nbformat": 4,
 "nbformat_minor": 2
}
