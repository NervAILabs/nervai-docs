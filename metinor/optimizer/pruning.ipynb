{
 "cells": [
  {
   "cell_type": "markdown",
   "metadata": {},
   "source": [
    "# Pruning a PyTorch Model\n",
    "\n",
    "Pruning is a technique for reducing the size of a neural network by removing unimportant weights. The idea is to train a model, identify the unimportant weights, and then remove them. The resulting model will be smaller and faster, but will have the same accuracy as the original model.\n",
    "\n",
    "![The pruning process](https://shrinkbench.github.io/diagram.svg)\n",
    "\n",
    "```{tip} To learn more about what neural network pruning is, see this excellent [blog post](https://towardsdatascience.com/neural-network-pruning-101-af816aaea61) by [Hugo Tessier](https://medium.com/@hugo.tessier).\n",
    "```\n",
    "\n",
    "```{attention} \n",
    "> **For Contributors**: Source code for the pruning functionality resides under the `metinor.optimizer.pruning` module.\n",
    "```"
   ]
  },
  {
   "cell_type": "markdown",
   "metadata": {},
   "source": [
    "## Supported Pruning Strategies\n",
    "\n",
    "There are many different ways to prune a neural network. In the `metinor.optimizer.pruning.strategies` package, we provide implementations of some of the most common pruning strategies.\n",
    "\n",
    "Here is a brief overview of the pruning strategies available:\n",
    "\n",
    "- **GlobalMagWeight (Global Magnitude Weight Pruning)**: Prunes the least important weights across the entire network based on their absolute values.\n",
    "- **LayerMagWeight (Layerwise Magnitude Weight Pruning)**: Prunes weights within individual layers based on their absolute values.\n",
    "- **GlobalMagGrad (Global Magnitude-Gradient Pruning)**: Prunes weights across the entire network based on a combination of their absolute values and gradients.\n",
    "- **LayerMagGrad (Layerwise Magnitude-Gradient Pruning)**: Prunes weights within layers based on a combination of their absolute values and gradients.\n",
    "- **GlobalMagAct (Global Activation-Magnitude Pruning)**: Prunes weights across the network based on a combination of their absolute values and corresponding activations.\n",
    "- **LayerMagAct (Layerwise Activation-Magnitude Pruning)**: Prunes weights within layers based on a combination of their absolute values and corresponding activations.\n",
    "- **RandomPruning**: Randomly zeroes out a fraction of weights across the entire network.\n",
    "\n",
    "To list all available pruning strategies, use the `list_pruning_strategies` function:"
   ]
  },
  {
   "cell_type": "code",
   "execution_count": 1,
   "metadata": {},
   "outputs": [
    {
     "name": "stdout",
     "output_type": "stream",
     "text": [
      "['GlobalMagWeight', 'LayerMagWeight', 'GlobalMagGrad', 'LayerMagGrad', 'GlobalMagAct', 'LayerMagAct', 'RandomPruning']\n"
     ]
    }
   ],
   "source": [
    "from metinor.optimizer import list_pruning_strategies\n",
    "\n",
    "strategies = list_pruning_strategies()\n",
    "print(strategies)"
   ]
  },
  {
   "cell_type": "markdown",
   "metadata": {},
   "source": [
    "## Implementing Your Own Pruning Strategy\n",
    "\n",
    "The pruning package allows for easy application of different pruning strategies to neural network models. To implement a new pruning strategy, you need to extend one or more base classes from `LayerPruning` or `VisionPruning`. Then, you either need to implement `layer_masks` or `model_masks` depending on whether you want to prune layerwise or globally. For example, see the following implementations of global and layerwise magnitude pruning:"
   ]
  },
  {
   "cell_type": "code",
   "execution_count": 2,
   "metadata": {},
   "outputs": [],
   "source": [
    "from metinor.optimizer.pruning import VisionPruning, LayerPruning\n",
    "\n",
    "\n",
    "class GlobalMagWeight(VisionPruning):\n",
    "\n",
    "    def model_masks(self):\n",
    "        importances = map_importances(np.abs, self.params())\n",
    "        flat_importances = flatten_importances(importances)\n",
    "        threshold = fraction_threshold(flat_importances, self.fraction)\n",
    "        masks = importance_masks(importances, threshold)\n",
    "        return masks\n",
    "\n",
    "\n",
    "class LayerMagWeight(LayerPruning, VisionPruning):\n",
    "\n",
    "    def layer_masks(self, module):\n",
    "        params = self.module_params(module)\n",
    "        importances = {param: np.abs(value) for param, value in params.items()}\n",
    "        masks = {param: fraction_mask(importances[param], self.fraction)\n",
    "                for param, value in params.items() if value is not None}\n",
    "        return masks"
   ]
  },
  {
   "cell_type": "markdown",
   "metadata": {},
   "source": [
    "## Using the Pruning API\n",
    "\n",
    "To prune a model, use the `prune` function by specifying the model, the pruning strategy, and strategy-specific parameters. For example, to prune a model using random pruning:\n",
    "\n",
    "```python\n",
    "from metinor.optimizer import prune\n",
    "\n",
    "model = ...  # Your PyTorch model\n",
    "pruned_model = prune(model, strategy='RandomPruning', compression=1)\n",
    "\n",
    "# Continue training the pruned model\n",
    "```\n",
    "\n",
    "In the following sections, we will demonstrate how to use the pruning functionality to prune a PyTorch model using different pruning strategies."
   ]
  },
  {
   "cell_type": "markdown",
   "metadata": {},
   "source": [
    "### Create a Model\n",
    "\n",
    "First, let's create a simple neural network model using PyTorch. For demonstration purposes, we will use the [LeNet](http://yann.lecun.com/exdb/publis/pdf/lecun-98.pdf) architecture from LeCun et al., 1998.\n"
   ]
  },
  {
   "cell_type": "code",
   "execution_count": 3,
   "metadata": {},
   "outputs": [],
   "source": [
    "import torch\n",
    "import torch.nn as nn\n",
    "import torch.nn.functional as F\n",
    "\n",
    "\n",
    "device = torch.device(\"cuda\" if torch.cuda.is_available() else \"cpu\")\n",
    "\n",
    "class LeNet(nn.Module):\n",
    "    def __init__(self):\n",
    "        super(LeNet, self).__init__()\n",
    "        # 1 input image channel, 6 output channels, 5x5 square conv kernel\n",
    "        self.conv1 = nn.Conv2d(1, 6, 5)\n",
    "        self.conv2 = nn.Conv2d(6, 16, 5)\n",
    "        self.fc1 = nn.Linear(16 * 5 * 5, 120)  # 5x5 image dimension\n",
    "        self.fc2 = nn.Linear(120, 84)\n",
    "        self.fc3 = nn.Linear(84, 10)\n",
    "\n",
    "    def forward(self, x):\n",
    "        x = F.max_pool2d(F.relu(self.conv1(x)), (2, 2))\n",
    "        x = F.max_pool2d(F.relu(self.conv2(x)), 2)\n",
    "        x = x.view(-1, int(x.nelement() / x.shape[0]))\n",
    "        x = F.relu(self.fc1(x))\n",
    "        x = F.relu(self.fc2(x))\n",
    "        x = self.fc3(x)\n",
    "        return x\n",
    "\n",
    "model = LeNet().to(device=device)"
   ]
  },
  {
   "cell_type": "markdown",
   "metadata": {},
   "source": [
    "To test the model, we use a dummy input tensor of size `(8, 1, 32, 32)` and pass it through the model to get the output. The output tensor should have a size of `(8, 10)`."
   ]
  },
  {
   "cell_type": "code",
   "execution_count": 4,
   "metadata": {},
   "outputs": [
    {
     "name": "stdout",
     "output_type": "stream",
     "text": [
      "torch.Size([8, 10])\n"
     ]
    }
   ],
   "source": [
    "input_shape = (8, 1, 32, 32)\n",
    "X = torch.rand(input_shape).to(device=device)\n",
    "y = model(X)\n",
    "print(y.size())"
   ]
  },
  {
   "cell_type": "markdown",
   "metadata": {},
   "source": [
    "### Import Required Functions\n",
    "\n",
    "Next, we import the required functions from the `metinor.optimizer.pruning` module."
   ]
  },
  {
   "cell_type": "code",
   "execution_count": 5,
   "metadata": {},
   "outputs": [],
   "source": [
    "# Pruning\n",
    "from metinor.optimizer.pruning import verify_model\n",
    "from metinor.optimizer.pruning.strategies import (\n",
    "    prune_input_channels_by_rms,\n",
    "    prune_output_channels_by_rms,\n",
    "    change_linear_input,\n",
    "    change_linear_output,\n",
    ")\n",
    "\n",
    "from metinor.profiler.handlers.rms import conv_channelwise_rms, linear_weights_rms"
   ]
  },
  {
   "cell_type": "markdown",
   "metadata": {},
   "source": [
    "### Visualize the Network Graph\n",
    "\n",
    "We can visualize the network graph using the `get_graph` function from the `metinor.visualizer` module. This function returns a `ComputationalGraph` object that holds the network graph information. It also contains a `visual_graph` attribute which is a `Digraph` object that can be rendered using the `render` method. Let's visualize the network graph of the LeNet model."
   ]
  },
  {
   "cell_type": "code",
   "execution_count": 6,
   "metadata": {},
   "outputs": [],
   "source": [
    "from metinor.visualizer import get_graph\n",
    "\n",
    "# Create the graph\n",
    "graph = get_graph(\n",
    "    model,\n",
    "    input_size=input_shape,\n",
    "    depth=1,\n",
    "    filter_by='RMS',\n",
    "    filter_value=0.5,\n",
    ")\n",
    "\n",
    "# Decode the Digraph to SVG\n",
    "graph_svg = graph.visual_graph.pipe(format='svg').decode(\"utf-8\")"
   ]
  },
  {
   "cell_type": "markdown",
   "metadata": {},
   "source": [
    "We can display the SVG image in the notebook using the `display` function from the `IPython.display` module. Alternatively, `visual_graph.render('lenet', format='png')` can be used to save the image as a PNG file. For all supported formats, see the [Graphviz documentation](https://graphviz.gitlab.io/_pages/doc/info/output.html)."
   ]
  },
  {
   "cell_type": "code",
   "execution_count": 7,
   "metadata": {},
   "outputs": [
    {
     "data": {
      "image/svg+xml": [
       "<svg xmlns=\"http://www.w3.org/2000/svg\" xmlns:xlink=\"http://www.w3.org/1999/xlink\" width=\"145pt\" height=\"864pt\" viewBox=\"0.00 0.00 144.87 864.00\">\n",
       "<g id=\"graph0\" class=\"graph computational-graph\" transform=\"scale(1.15 1.15) rotate(0) translate(4 989)\">\n",
       "<title>model</title>\n",
       "<polygon fill=\"white\" stroke=\"transparent\" points=\"-4,4 -4,-989 162.5,-989 162.5,4 -4,4\"/>\n",
       "<!-- 0 -->\n",
       "<g id=\"0\" class=\"node computational-graph-node\">\n",
       "<title>0</title>\n",
       "<g id=\"a_0\"><a xlink:href=\"javascript:showStats({});\" xlink:title=\"{}\">\n",
       "<path fill=\"gainsboro\" stroke=\"transparent\" d=\"M102.33,-985C102.33,-985 12.67,-985 12.67,-985 8.83,-985 5,-981.17 5,-977.33 5,-977.33 5,-969.67 5,-969.67 5,-965.83 8.83,-962 12.67,-962 12.67,-962 102.33,-962 102.33,-962 106.17,-962 110,-965.83 110,-969.67 110,-969.67 110,-977.33 110,-977.33 110,-981.17 106.17,-985 102.33,-985\"/>\n",
       "<text text-anchor=\"start\" x=\"9.5\" y=\"-969.3\" font-family=\"Times,serif\" font-size=\"14.00\"> input-tensor </text>\n",
       "</a>\n",
       "</g>\n",
       "</g>\n",
       "<!-- 1 -->\n",
       "<g id=\"1\" class=\"node computational-graph-node\">\n",
       "<title>1</title>\n",
       "<g id=\"a_1\"><a xlink:href=\"javascript:showStats({     &quot;NAME&quot;: &quot;Conv2d&quot;,     &quot;TYPE&quot;: &quot;Conv2d&quot;,     &quot;INPUTS&quot;: &quot;(1, 32, 32)&quot;,     &quot;OUTPUTS&quot;: &quot;(6, 28, 28)&quot;,     &quot;PARAMS&quot;: &quot;156&quot;,     &quot;PARAMS_TRAINABLE&quot;: &quot;156&quot;,     &quot;FLOPS&quot;: &quot;122.3K&quot;,     &quot;MADDS&quot;: &quot;235.2K&quot;,     &quot;MEM_READ&quot;: &quot;1.18K&quot;,     &quot;MEM_WRITE&quot;: &quot;4.7K&quot;,     &quot;RUNTIME&quot;: &quot;0.0012&quot;,     &quot;RMS&quot;: &quot;0.12&quot; });\" xlink:title=\"{\n",
       "    &quot;NAME&quot;: &quot;Conv2d&quot;,\n",
       "    &quot;TYPE&quot;: &quot;Conv2d&quot;,\n",
       "    &quot;INPUTS&quot;: &quot;(1, 32, 32)&quot;,\n",
       "    &quot;OUTPUTS&quot;: &quot;(6, 28, 28)&quot;,\n",
       "    &quot;PARAMS&quot;: &quot;156&quot;,\n",
       "    &quot;PARAMS_TRAINABLE&quot;: &quot;156&quot;,\n",
       "    &quot;FLOPS&quot;: &quot;122.3K&quot;,\n",
       "    &quot;MADDS&quot;: &quot;235.2K&quot;,\n",
       "    &quot;MEM_READ&quot;: &quot;1.18K&quot;,\n",
       "    &quot;MEM_WRITE&quot;: &quot;4.7K&quot;,\n",
       "    &quot;RUNTIME&quot;: &quot;0.0012&quot;,\n",
       "    &quot;RMS&quot;: &quot;0.12&quot;\n",
       "}\">\n",
       "<path fill=\"#8b3a3a\" stroke=\"transparent\" d=\"M85.83,-911C85.83,-911 29.17,-911 29.17,-911 25.33,-911 21.5,-907.17 21.5,-903.33 21.5,-903.33 21.5,-895.67 21.5,-895.67 21.5,-891.83 25.33,-888 29.17,-888 29.17,-888 85.83,-888 85.83,-888 89.67,-888 93.5,-891.83 93.5,-895.67 93.5,-895.67 93.5,-903.33 93.5,-903.33 93.5,-907.17 89.67,-911 85.83,-911\"/>\n",
       "<text text-anchor=\"start\" x=\"25.5\" y=\"-895.3\" font-family=\"Times,serif\" font-size=\"14.00\" fill=\"white\"> Conv2d </text>\n",
       "</a>\n",
       "</g>\n",
       "</g>\n",
       "<!-- 0&#45;&gt;1 -->\n",
       "<g id=\"edge1\" class=\"edge computational-graph-edge\">\n",
       "<title>0-&gt;1</title>\n",
       "<path fill=\"none\" stroke=\"black\" d=\"M57.5,-961.88C57.5,-951.24 57.5,-934.59 57.5,-921.32\"/>\n",
       "<polygon fill=\"black\" stroke=\"black\" points=\"61,-921.17 57.5,-911.17 54,-921.17 61,-921.17\"/>\n",
       "<text text-anchor=\"middle\" x=\"103.5\" y=\"-932.8\" font-family=\"Times,serif\" font-size=\"14.00\">(8, 1, 32, 32)</text>\n",
       "</g>\n",
       "<!-- 2 -->\n",
       "<g id=\"2\" class=\"node computational-graph-node\">\n",
       "<title>2</title>\n",
       "<g id=\"a_2\"><a xlink:href=\"javascript:showStats({});\" xlink:title=\"{}\">\n",
       "<path fill=\"#6c7b8b\" stroke=\"transparent\" d=\"M72.83,-837C72.83,-837 42.17,-837 42.17,-837 38.33,-837 34.5,-833.17 34.5,-829.33 34.5,-829.33 34.5,-821.67 34.5,-821.67 34.5,-817.83 38.33,-814 42.17,-814 42.17,-814 72.83,-814 72.83,-814 76.67,-814 80.5,-817.83 80.5,-821.67 80.5,-821.67 80.5,-829.33 80.5,-829.33 80.5,-833.17 76.67,-837 72.83,-837\"/>\n",
       "<text text-anchor=\"start\" x=\"38.5\" y=\"-821.3\" font-family=\"Times,serif\" font-size=\"14.00\"> relu </text>\n",
       "</a>\n",
       "</g>\n",
       "</g>\n",
       "<!-- 1&#45;&gt;2 -->\n",
       "<g id=\"edge2\" class=\"edge computational-graph-edge\">\n",
       "<title>1-&gt;2</title>\n",
       "<path fill=\"none\" stroke=\"black\" d=\"M57.5,-887.88C57.5,-877.24 57.5,-860.59 57.5,-847.32\"/>\n",
       "<polygon fill=\"black\" stroke=\"black\" points=\"61,-847.17 57.5,-837.17 54,-847.17 61,-847.17\"/>\n",
       "<text text-anchor=\"middle\" x=\"103.5\" y=\"-858.8\" font-family=\"Times,serif\" font-size=\"14.00\">(8, 6, 28, 28)</text>\n",
       "</g>\n",
       "<!-- 3 -->\n",
       "<g id=\"3\" class=\"node computational-graph-node\">\n",
       "<title>3</title>\n",
       "<g id=\"a_3\"><a xlink:href=\"javascript:showStats({});\" xlink:title=\"{}\">\n",
       "<path fill=\"#6c7b8b\" stroke=\"transparent\" d=\"M100.83,-763C100.83,-763 14.17,-763 14.17,-763 10.33,-763 6.5,-759.17 6.5,-755.33 6.5,-755.33 6.5,-747.67 6.5,-747.67 6.5,-743.83 10.33,-740 14.17,-740 14.17,-740 100.83,-740 100.83,-740 104.67,-740 108.5,-743.83 108.5,-747.67 108.5,-747.67 108.5,-755.33 108.5,-755.33 108.5,-759.17 104.67,-763 100.83,-763\"/>\n",
       "<text text-anchor=\"start\" x=\"10.5\" y=\"-747.3\" font-family=\"Times,serif\" font-size=\"14.00\"> max_pool2d </text>\n",
       "</a>\n",
       "</g>\n",
       "</g>\n",
       "<!-- 2&#45;&gt;3 -->\n",
       "<g id=\"edge3\" class=\"edge computational-graph-edge\">\n",
       "<title>2-&gt;3</title>\n",
       "<path fill=\"none\" stroke=\"black\" d=\"M57.5,-813.88C57.5,-803.24 57.5,-786.59 57.5,-773.32\"/>\n",
       "<polygon fill=\"black\" stroke=\"black\" points=\"61,-773.17 57.5,-763.17 54,-773.17 61,-773.17\"/>\n",
       "<text text-anchor=\"middle\" x=\"103.5\" y=\"-784.8\" font-family=\"Times,serif\" font-size=\"14.00\">(8, 6, 28, 28)</text>\n",
       "</g>\n",
       "<!-- 4 -->\n",
       "<g id=\"4\" class=\"node computational-graph-node\">\n",
       "<title>4</title>\n",
       "<g id=\"a_4\"><a xlink:href=\"javascript:showStats({     &quot;NAME&quot;: &quot;Conv2d&quot;,     &quot;TYPE&quot;: &quot;Conv2d&quot;,     &quot;INPUTS&quot;: &quot;(6, 14, 14)&quot;,     &quot;OUTPUTS&quot;: &quot;(16, 10, 10)&quot;,     &quot;PARAMS&quot;: &quot;2.42K&quot;,     &quot;PARAMS_TRAINABLE&quot;: &quot;2.42K&quot;,     &quot;FLOPS&quot;: &quot;241.6K&quot;,     &quot;MADDS&quot;: &quot;480.0K&quot;,     &quot;MEM_READ&quot;: &quot;3.59K&quot;,     &quot;MEM_WRITE&quot;: &quot;1.6K&quot;,     &quot;RUNTIME&quot;: &quot;0.00042&quot;,     &quot;RMS&quot;: &quot;0.048&quot; });\" xlink:title=\"{\n",
       "    &quot;NAME&quot;: &quot;Conv2d&quot;,\n",
       "    &quot;TYPE&quot;: &quot;Conv2d&quot;,\n",
       "    &quot;INPUTS&quot;: &quot;(6, 14, 14)&quot;,\n",
       "    &quot;OUTPUTS&quot;: &quot;(16, 10, 10)&quot;,\n",
       "    &quot;PARAMS&quot;: &quot;2.42K&quot;,\n",
       "    &quot;PARAMS_TRAINABLE&quot;: &quot;2.42K&quot;,\n",
       "    &quot;FLOPS&quot;: &quot;241.6K&quot;,\n",
       "    &quot;MADDS&quot;: &quot;480.0K&quot;,\n",
       "    &quot;MEM_READ&quot;: &quot;3.59K&quot;,\n",
       "    &quot;MEM_WRITE&quot;: &quot;1.6K&quot;,\n",
       "    &quot;RUNTIME&quot;: &quot;0.00042&quot;,\n",
       "    &quot;RMS&quot;: &quot;0.048&quot;\n",
       "}\">\n",
       "<path fill=\"#8b3a3a\" stroke=\"transparent\" d=\"M85.83,-689C85.83,-689 29.17,-689 29.17,-689 25.33,-689 21.5,-685.17 21.5,-681.33 21.5,-681.33 21.5,-673.67 21.5,-673.67 21.5,-669.83 25.33,-666 29.17,-666 29.17,-666 85.83,-666 85.83,-666 89.67,-666 93.5,-669.83 93.5,-673.67 93.5,-673.67 93.5,-681.33 93.5,-681.33 93.5,-685.17 89.67,-689 85.83,-689\"/>\n",
       "<text text-anchor=\"start\" x=\"25.5\" y=\"-673.3\" font-family=\"Times,serif\" font-size=\"14.00\" fill=\"white\"> Conv2d </text>\n",
       "</a>\n",
       "</g>\n",
       "</g>\n",
       "<!-- 3&#45;&gt;4 -->\n",
       "<g id=\"edge4\" class=\"edge computational-graph-edge\">\n",
       "<title>3-&gt;4</title>\n",
       "<path fill=\"none\" stroke=\"black\" d=\"M57.5,-739.88C57.5,-729.24 57.5,-712.59 57.5,-699.32\"/>\n",
       "<polygon fill=\"black\" stroke=\"black\" points=\"61,-699.17 57.5,-689.17 54,-699.17 61,-699.17\"/>\n",
       "<text text-anchor=\"middle\" x=\"103.5\" y=\"-710.8\" font-family=\"Times,serif\" font-size=\"14.00\">(8, 6, 14, 14)</text>\n",
       "</g>\n",
       "<!-- 5 -->\n",
       "<g id=\"5\" class=\"node computational-graph-node\">\n",
       "<title>5</title>\n",
       "<g id=\"a_5\"><a xlink:href=\"javascript:showStats({});\" xlink:title=\"{}\">\n",
       "<path fill=\"#6c7b8b\" stroke=\"transparent\" d=\"M72.83,-615C72.83,-615 42.17,-615 42.17,-615 38.33,-615 34.5,-611.17 34.5,-607.33 34.5,-607.33 34.5,-599.67 34.5,-599.67 34.5,-595.83 38.33,-592 42.17,-592 42.17,-592 72.83,-592 72.83,-592 76.67,-592 80.5,-595.83 80.5,-599.67 80.5,-599.67 80.5,-607.33 80.5,-607.33 80.5,-611.17 76.67,-615 72.83,-615\"/>\n",
       "<text text-anchor=\"start\" x=\"38.5\" y=\"-599.3\" font-family=\"Times,serif\" font-size=\"14.00\"> relu </text>\n",
       "</a>\n",
       "</g>\n",
       "</g>\n",
       "<!-- 4&#45;&gt;5 -->\n",
       "<g id=\"edge5\" class=\"edge computational-graph-edge\">\n",
       "<title>4-&gt;5</title>\n",
       "<path fill=\"none\" stroke=\"black\" d=\"M57.5,-665.88C57.5,-655.24 57.5,-638.59 57.5,-625.32\"/>\n",
       "<polygon fill=\"black\" stroke=\"black\" points=\"61,-625.17 57.5,-615.17 54,-625.17 61,-625.17\"/>\n",
       "<text text-anchor=\"middle\" x=\"108\" y=\"-636.8\" font-family=\"Times,serif\" font-size=\"14.00\">(8, 16, 10, 10)</text>\n",
       "</g>\n",
       "<!-- 6 -->\n",
       "<g id=\"6\" class=\"node computational-graph-node\">\n",
       "<title>6</title>\n",
       "<g id=\"a_6\"><a xlink:href=\"javascript:showStats({});\" xlink:title=\"{}\">\n",
       "<path fill=\"#6c7b8b\" stroke=\"transparent\" d=\"M100.83,-541C100.83,-541 14.17,-541 14.17,-541 10.33,-541 6.5,-537.17 6.5,-533.33 6.5,-533.33 6.5,-525.67 6.5,-525.67 6.5,-521.83 10.33,-518 14.17,-518 14.17,-518 100.83,-518 100.83,-518 104.67,-518 108.5,-521.83 108.5,-525.67 108.5,-525.67 108.5,-533.33 108.5,-533.33 108.5,-537.17 104.67,-541 100.83,-541\"/>\n",
       "<text text-anchor=\"start\" x=\"10.5\" y=\"-525.3\" font-family=\"Times,serif\" font-size=\"14.00\"> max_pool2d </text>\n",
       "</a>\n",
       "</g>\n",
       "</g>\n",
       "<!-- 5&#45;&gt;6 -->\n",
       "<g id=\"edge6\" class=\"edge computational-graph-edge\">\n",
       "<title>5-&gt;6</title>\n",
       "<path fill=\"none\" stroke=\"black\" d=\"M57.5,-591.88C57.5,-581.24 57.5,-564.59 57.5,-551.32\"/>\n",
       "<polygon fill=\"black\" stroke=\"black\" points=\"61,-551.17 57.5,-541.17 54,-551.17 61,-551.17\"/>\n",
       "<text text-anchor=\"middle\" x=\"108\" y=\"-562.8\" font-family=\"Times,serif\" font-size=\"14.00\">(8, 16, 10, 10)</text>\n",
       "</g>\n",
       "<!-- 7 -->\n",
       "<g id=\"7\" class=\"node computational-graph-node\">\n",
       "<title>7</title>\n",
       "<g id=\"a_7\"><a xlink:href=\"javascript:showStats({});\" xlink:title=\"{}\">\n",
       "<path fill=\"#6c7b8b\" stroke=\"transparent\" d=\"M75.33,-467C75.33,-467 39.67,-467 39.67,-467 35.83,-467 32,-463.17 32,-459.33 32,-459.33 32,-451.67 32,-451.67 32,-447.83 35.83,-444 39.67,-444 39.67,-444 75.33,-444 75.33,-444 79.17,-444 83,-447.83 83,-451.67 83,-451.67 83,-459.33 83,-459.33 83,-463.17 79.17,-467 75.33,-467\"/>\n",
       "<text text-anchor=\"start\" x=\"36.5\" y=\"-451.3\" font-family=\"Times,serif\" font-size=\"14.00\"> view </text>\n",
       "</a>\n",
       "</g>\n",
       "</g>\n",
       "<!-- 6&#45;&gt;7 -->\n",
       "<g id=\"edge7\" class=\"edge computational-graph-edge\">\n",
       "<title>6-&gt;7</title>\n",
       "<path fill=\"none\" stroke=\"black\" d=\"M57.5,-517.88C57.5,-507.24 57.5,-490.59 57.5,-477.32\"/>\n",
       "<polygon fill=\"black\" stroke=\"black\" points=\"61,-477.17 57.5,-467.17 54,-477.17 61,-477.17\"/>\n",
       "<text text-anchor=\"middle\" x=\"99\" y=\"-488.8\" font-family=\"Times,serif\" font-size=\"14.00\">(8, 16, 5, 5)</text>\n",
       "</g>\n",
       "<!-- 8 -->\n",
       "<g id=\"8\" class=\"node computational-graph-node\">\n",
       "<title>8</title>\n",
       "<g id=\"a_8\"><a xlink:href=\"javascript:showStats({     &quot;NAME&quot;: &quot;Linear&quot;,     &quot;TYPE&quot;: &quot;Linear&quot;,     &quot;INPUTS&quot;: &quot;(400,)&quot;,     &quot;OUTPUTS&quot;: &quot;(120,)&quot;,     &quot;PARAMS&quot;: &quot;48.12K&quot;,     &quot;PARAMS_TRAINABLE&quot;: &quot;48.12K&quot;,     &quot;FLOPS&quot;: &quot;48.0K&quot;,     &quot;MADDS&quot;: &quot;95.88K&quot;,     &quot;MEM_READ&quot;: &quot;48.52K&quot;,     &quot;MEM_WRITE&quot;: &quot;120&quot;,     &quot;RUNTIME&quot;: &quot;8e-05&quot;,     &quot;RMS&quot;: &quot;0.029&quot; });\" xlink:title=\"{\n",
       "    &quot;NAME&quot;: &quot;Linear&quot;,\n",
       "    &quot;TYPE&quot;: &quot;Linear&quot;,\n",
       "    &quot;INPUTS&quot;: &quot;(400,)&quot;,\n",
       "    &quot;OUTPUTS&quot;: &quot;(120,)&quot;,\n",
       "    &quot;PARAMS&quot;: &quot;48.12K&quot;,\n",
       "    &quot;PARAMS_TRAINABLE&quot;: &quot;48.12K&quot;,\n",
       "    &quot;FLOPS&quot;: &quot;48.0K&quot;,\n",
       "    &quot;MADDS&quot;: &quot;95.88K&quot;,\n",
       "    &quot;MEM_READ&quot;: &quot;48.52K&quot;,\n",
       "    &quot;MEM_WRITE&quot;: &quot;120&quot;,\n",
       "    &quot;RUNTIME&quot;: &quot;8e-05&quot;,\n",
       "    &quot;RMS&quot;: &quot;0.029&quot;\n",
       "}\">\n",
       "<path fill=\"#8b3a3a\" stroke=\"transparent\" d=\"M81.33,-393C81.33,-393 33.67,-393 33.67,-393 29.83,-393 26,-389.17 26,-385.33 26,-385.33 26,-377.67 26,-377.67 26,-373.83 29.83,-370 33.67,-370 33.67,-370 81.33,-370 81.33,-370 85.17,-370 89,-373.83 89,-377.67 89,-377.67 89,-385.33 89,-385.33 89,-389.17 85.17,-393 81.33,-393\"/>\n",
       "<text text-anchor=\"start\" x=\"30.5\" y=\"-377.3\" font-family=\"Times,serif\" font-size=\"14.00\" fill=\"white\"> Linear </text>\n",
       "</a>\n",
       "</g>\n",
       "</g>\n",
       "<!-- 7&#45;&gt;8 -->\n",
       "<g id=\"edge8\" class=\"edge computational-graph-edge\">\n",
       "<title>7-&gt;8</title>\n",
       "<path fill=\"none\" stroke=\"black\" d=\"M57.5,-443.88C57.5,-433.24 57.5,-416.59 57.5,-403.32\"/>\n",
       "<polygon fill=\"black\" stroke=\"black\" points=\"61,-403.17 57.5,-393.17 54,-403.17 61,-403.17\"/>\n",
       "<text text-anchor=\"middle\" x=\"85.5\" y=\"-414.8\" font-family=\"Times,serif\" font-size=\"14.00\">(8, 400)</text>\n",
       "</g>\n",
       "<!-- 9 -->\n",
       "<g id=\"9\" class=\"node computational-graph-node\">\n",
       "<title>9</title>\n",
       "<g id=\"a_9\"><a xlink:href=\"javascript:showStats({});\" xlink:title=\"{}\">\n",
       "<path fill=\"#6c7b8b\" stroke=\"transparent\" d=\"M72.83,-319C72.83,-319 42.17,-319 42.17,-319 38.33,-319 34.5,-315.17 34.5,-311.33 34.5,-311.33 34.5,-303.67 34.5,-303.67 34.5,-299.83 38.33,-296 42.17,-296 42.17,-296 72.83,-296 72.83,-296 76.67,-296 80.5,-299.83 80.5,-303.67 80.5,-303.67 80.5,-311.33 80.5,-311.33 80.5,-315.17 76.67,-319 72.83,-319\"/>\n",
       "<text text-anchor=\"start\" x=\"38.5\" y=\"-303.3\" font-family=\"Times,serif\" font-size=\"14.00\"> relu </text>\n",
       "</a>\n",
       "</g>\n",
       "</g>\n",
       "<!-- 8&#45;&gt;9 -->\n",
       "<g id=\"edge9\" class=\"edge computational-graph-edge\">\n",
       "<title>8-&gt;9</title>\n",
       "<path fill=\"none\" stroke=\"black\" d=\"M57.5,-369.88C57.5,-359.24 57.5,-342.59 57.5,-329.32\"/>\n",
       "<polygon fill=\"black\" stroke=\"black\" points=\"61,-329.17 57.5,-319.17 54,-329.17 61,-329.17\"/>\n",
       "<text text-anchor=\"middle\" x=\"85.5\" y=\"-340.8\" font-family=\"Times,serif\" font-size=\"14.00\">(8, 120)</text>\n",
       "</g>\n",
       "<!-- 10 -->\n",
       "<g id=\"10\" class=\"node computational-graph-node\">\n",
       "<title>10</title>\n",
       "<g id=\"a_10\"><a xlink:href=\"javascript:showStats({     &quot;NAME&quot;: &quot;Linear&quot;,     &quot;TYPE&quot;: &quot;Linear&quot;,     &quot;INPUTS&quot;: &quot;(120,)&quot;,     &quot;OUTPUTS&quot;: &quot;(84,)&quot;,     &quot;PARAMS&quot;: &quot;10.16K&quot;,     &quot;PARAMS_TRAINABLE&quot;: &quot;10.16K&quot;,     &quot;FLOPS&quot;: &quot;10.08K&quot;,     &quot;MADDS&quot;: &quot;20.08K&quot;,     &quot;MEM_READ&quot;: &quot;10.28K&quot;,     &quot;MEM_WRITE&quot;: &quot;84&quot;,     &quot;RUNTIME&quot;: &quot;1.71661376953125e-05&quot;,     &quot;RMS&quot;: &quot;0.05&quot; });\" xlink:title=\"{\n",
       "    &quot;NAME&quot;: &quot;Linear&quot;,\n",
       "    &quot;TYPE&quot;: &quot;Linear&quot;,\n",
       "    &quot;INPUTS&quot;: &quot;(120,)&quot;,\n",
       "    &quot;OUTPUTS&quot;: &quot;(84,)&quot;,\n",
       "    &quot;PARAMS&quot;: &quot;10.16K&quot;,\n",
       "    &quot;PARAMS_TRAINABLE&quot;: &quot;10.16K&quot;,\n",
       "    &quot;FLOPS&quot;: &quot;10.08K&quot;,\n",
       "    &quot;MADDS&quot;: &quot;20.08K&quot;,\n",
       "    &quot;MEM_READ&quot;: &quot;10.28K&quot;,\n",
       "    &quot;MEM_WRITE&quot;: &quot;84&quot;,\n",
       "    &quot;RUNTIME&quot;: &quot;1.71661376953125e-05&quot;,\n",
       "    &quot;RMS&quot;: &quot;0.05&quot;\n",
       "}\">\n",
       "<path fill=\"#8b3a3a\" stroke=\"transparent\" d=\"M81.33,-245C81.33,-245 33.67,-245 33.67,-245 29.83,-245 26,-241.17 26,-237.33 26,-237.33 26,-229.67 26,-229.67 26,-225.83 29.83,-222 33.67,-222 33.67,-222 81.33,-222 81.33,-222 85.17,-222 89,-225.83 89,-229.67 89,-229.67 89,-237.33 89,-237.33 89,-241.17 85.17,-245 81.33,-245\"/>\n",
       "<text text-anchor=\"start\" x=\"30.5\" y=\"-229.3\" font-family=\"Times,serif\" font-size=\"14.00\" fill=\"white\"> Linear </text>\n",
       "</a>\n",
       "</g>\n",
       "</g>\n",
       "<!-- 9&#45;&gt;10 -->\n",
       "<g id=\"edge10\" class=\"edge computational-graph-edge\">\n",
       "<title>9-&gt;10</title>\n",
       "<path fill=\"none\" stroke=\"black\" d=\"M57.5,-295.88C57.5,-285.24 57.5,-268.59 57.5,-255.32\"/>\n",
       "<polygon fill=\"black\" stroke=\"black\" points=\"61,-255.17 57.5,-245.17 54,-255.17 61,-255.17\"/>\n",
       "<text text-anchor=\"middle\" x=\"85.5\" y=\"-266.8\" font-family=\"Times,serif\" font-size=\"14.00\">(8, 120)</text>\n",
       "</g>\n",
       "<!-- 11 -->\n",
       "<g id=\"11\" class=\"node computational-graph-node\">\n",
       "<title>11</title>\n",
       "<g id=\"a_11\"><a xlink:href=\"javascript:showStats({});\" xlink:title=\"{}\">\n",
       "<path fill=\"#6c7b8b\" stroke=\"transparent\" d=\"M72.83,-171C72.83,-171 42.17,-171 42.17,-171 38.33,-171 34.5,-167.17 34.5,-163.33 34.5,-163.33 34.5,-155.67 34.5,-155.67 34.5,-151.83 38.33,-148 42.17,-148 42.17,-148 72.83,-148 72.83,-148 76.67,-148 80.5,-151.83 80.5,-155.67 80.5,-155.67 80.5,-163.33 80.5,-163.33 80.5,-167.17 76.67,-171 72.83,-171\"/>\n",
       "<text text-anchor=\"start\" x=\"38.5\" y=\"-155.3\" font-family=\"Times,serif\" font-size=\"14.00\"> relu </text>\n",
       "</a>\n",
       "</g>\n",
       "</g>\n",
       "<!-- 10&#45;&gt;11 -->\n",
       "<g id=\"edge11\" class=\"edge computational-graph-edge\">\n",
       "<title>10-&gt;11</title>\n",
       "<path fill=\"none\" stroke=\"black\" d=\"M57.5,-221.88C57.5,-211.24 57.5,-194.59 57.5,-181.32\"/>\n",
       "<polygon fill=\"black\" stroke=\"black\" points=\"61,-181.17 57.5,-171.17 54,-181.17 61,-181.17\"/>\n",
       "<text text-anchor=\"middle\" x=\"81\" y=\"-192.8\" font-family=\"Times,serif\" font-size=\"14.00\">(8, 84)</text>\n",
       "</g>\n",
       "<!-- 12 -->\n",
       "<g id=\"12\" class=\"node computational-graph-node\">\n",
       "<title>12</title>\n",
       "<g id=\"a_12\"><a xlink:href=\"javascript:showStats({     &quot;NAME&quot;: &quot;Linear&quot;,     &quot;TYPE&quot;: &quot;Linear&quot;,     &quot;INPUTS&quot;: &quot;(84,)&quot;,     &quot;OUTPUTS&quot;: &quot;(10,)&quot;,     &quot;PARAMS&quot;: &quot;850&quot;,     &quot;PARAMS_TRAINABLE&quot;: &quot;850&quot;,     &quot;FLOPS&quot;: &quot;840&quot;,     &quot;MADDS&quot;: &quot;1.67K&quot;,     &quot;MEM_READ&quot;: &quot;934&quot;,     &quot;MEM_WRITE&quot;: &quot;10&quot;,     &quot;RUNTIME&quot;: &quot;1.4781951904296875e-05&quot;,     &quot;RMS&quot;: &quot;0.06&quot; });\" xlink:title=\"{\n",
       "    &quot;NAME&quot;: &quot;Linear&quot;,\n",
       "    &quot;TYPE&quot;: &quot;Linear&quot;,\n",
       "    &quot;INPUTS&quot;: &quot;(84,)&quot;,\n",
       "    &quot;OUTPUTS&quot;: &quot;(10,)&quot;,\n",
       "    &quot;PARAMS&quot;: &quot;850&quot;,\n",
       "    &quot;PARAMS_TRAINABLE&quot;: &quot;850&quot;,\n",
       "    &quot;FLOPS&quot;: &quot;840&quot;,\n",
       "    &quot;MADDS&quot;: &quot;1.67K&quot;,\n",
       "    &quot;MEM_READ&quot;: &quot;934&quot;,\n",
       "    &quot;MEM_WRITE&quot;: &quot;10&quot;,\n",
       "    &quot;RUNTIME&quot;: &quot;1.4781951904296875e-05&quot;,\n",
       "    &quot;RMS&quot;: &quot;0.06&quot;\n",
       "}\">\n",
       "<path fill=\"#8b3a3a\" stroke=\"transparent\" d=\"M81.33,-97C81.33,-97 33.67,-97 33.67,-97 29.83,-97 26,-93.17 26,-89.33 26,-89.33 26,-81.67 26,-81.67 26,-77.83 29.83,-74 33.67,-74 33.67,-74 81.33,-74 81.33,-74 85.17,-74 89,-77.83 89,-81.67 89,-81.67 89,-89.33 89,-89.33 89,-93.17 85.17,-97 81.33,-97\"/>\n",
       "<text text-anchor=\"start\" x=\"30.5\" y=\"-81.3\" font-family=\"Times,serif\" font-size=\"14.00\" fill=\"white\"> Linear </text>\n",
       "</a>\n",
       "</g>\n",
       "</g>\n",
       "<!-- 11&#45;&gt;12 -->\n",
       "<g id=\"edge12\" class=\"edge computational-graph-edge\">\n",
       "<title>11-&gt;12</title>\n",
       "<path fill=\"none\" stroke=\"black\" d=\"M57.5,-147.88C57.5,-137.24 57.5,-120.59 57.5,-107.32\"/>\n",
       "<polygon fill=\"black\" stroke=\"black\" points=\"61,-107.17 57.5,-97.17 54,-107.17 61,-107.17\"/>\n",
       "<text text-anchor=\"middle\" x=\"81\" y=\"-118.8\" font-family=\"Times,serif\" font-size=\"14.00\">(8, 84)</text>\n",
       "</g>\n",
       "<!-- 13 -->\n",
       "<g id=\"13\" class=\"node computational-graph-node\">\n",
       "<title>13</title>\n",
       "<g id=\"a_13\"><a xlink:href=\"javascript:showStats({});\" xlink:title=\"{}\">\n",
       "<path fill=\"gainsboro\" stroke=\"transparent\" d=\"M107.33,-23C107.33,-23 7.67,-23 7.67,-23 3.83,-23 0,-19.17 0,-15.33 0,-15.33 0,-7.67 0,-7.67 0,-3.83 3.83,0 7.67,0 7.67,0 107.33,0 107.33,0 111.17,0 115,-3.83 115,-7.67 115,-7.67 115,-15.33 115,-15.33 115,-19.17 111.17,-23 107.33,-23\"/>\n",
       "<text text-anchor=\"start\" x=\"4.5\" y=\"-7.3\" font-family=\"Times,serif\" font-size=\"14.00\"> output-tensor </text>\n",
       "</a>\n",
       "</g>\n",
       "</g>\n",
       "<!-- 12&#45;&gt;13 -->\n",
       "<g id=\"edge13\" class=\"edge computational-graph-edge\">\n",
       "<title>12-&gt;13</title>\n",
       "<path fill=\"none\" stroke=\"black\" d=\"M57.5,-73.88C57.5,-63.24 57.5,-46.59 57.5,-33.32\"/>\n",
       "<polygon fill=\"black\" stroke=\"black\" points=\"61,-33.17 57.5,-23.17 54,-33.17 61,-33.17\"/>\n",
       "<text text-anchor=\"middle\" x=\"81\" y=\"-44.8\" font-family=\"Times,serif\" font-size=\"14.00\">(8, 10)</text>\n",
       "</g>\n",
       "</g>\n",
       "</svg>"
      ],
      "text/plain": [
       "<IPython.core.display.SVG object>"
      ]
     },
     "execution_count": 7,
     "metadata": {},
     "output_type": "execute_result"
    }
   ],
   "source": [
    "from IPython.display import SVG\n",
    "\n",
    "# Display the SVG\n",
    "SVG(graph_svg)"
   ]
  },
  {
   "cell_type": "markdown",
   "metadata": {},
   "source": [
    "If you look at the `get_graph` function call above again, you will notice that we used the `filter_by` and `filter_value` arguments to highlight the graph nodes that have an RMS value less than 0.5 (shown in red). This is one example of how you can identify low-importance weights in the network. We will use this information to decide which weights to prune."
   ]
  },
  {
   "cell_type": "markdown",
   "metadata": {},
   "source": [
    "### Channel Pruning\n",
    "\n",
    "The pruning package also provides channel pruning strategies that prune entire channels in Conv2D and optionally Linear layers. The available channel pruning strategies are:\n",
    "\n",
    "- **Weight Norm Channel**: Prunes channels in Conv2D and optionally Linear layers based on the norm of their weights.\n",
    "- **Activation Norm Channel**: Prunes channels based on the norm of their output activations, offering a dynamic pruning strategy.\n",
    "\n",
    "There are two ways to prune channels: by specifying the number of channels to prune or by specifying the fraction of channels to prune. The `prune_channels` function allows you to prune channels in a model using the specified channel pruning strategy."
   ]
  },
  {
   "cell_type": "code",
   "execution_count": 8,
   "metadata": {},
   "outputs": [
    {
     "name": "stdout",
     "output_type": "stream",
     "text": [
      "Before Pruning: Conv2d(1, 6, kernel_size=(5, 5), stride=(1, 1))\n",
      "After Pruning: Conv2d(1, 4, kernel_size=(5, 5), stride=(1, 1))\n"
     ]
    }
   ],
   "source": [
    "# Prune output channels of conv1 layer of the model and verfy the model\n",
    "num_channels_prune = 2\n",
    "\n",
    "# Prune the model\n",
    "print(\"Before Pruning:\", model.conv1)\n",
    "pruned_mod, _, _ = prune_output_channels_by_rms(\n",
    "    model.conv1,\n",
    "    conv_channelwise_rms(model.conv1, rms_dim=\"op_channels\"),\n",
    "    num_channels_prune,\n",
    ")\n",
    "\n",
    "print(\"After Pruning:\", pruned_mod)"
   ]
  },
  {
   "cell_type": "markdown",
   "metadata": {},
   "source": [
    "As you can see, the `prune_output_channels*` function removed the specified number of channels (2) from the layer, based on the filter criteria (least RMS values in this case). The `model.conv1` layer now has 4 output channels instead of 6. However, since this layer is connected to other layers, the input channels of the next layer (`model.conv2`) should also be reduced for the model to remain consistent.\n",
    "\n",
    "The `prune_input_channels*` function is used to prune the input channels of a layer. In this case, we prune the input channels of the `model.conv2` layer to match the output channels of the `model.conv1` layer. We also provide a utility function `verify_model_consistency` to check if the model is consistent after channel pruning."
   ]
  },
  {
   "cell_type": "code",
   "execution_count": 9,
   "metadata": {},
   "outputs": [
    {
     "name": "stdout",
     "output_type": "stream",
     "text": [
      "126752954022448\n"
     ]
    }
   ],
   "source": [
    "# Verify the pruned model\n",
    "failed_node = verify_model(model, torch.randn(input_shape), graph)\n",
    "print(failed_node)"
   ]
  },
  {
   "cell_type": "markdown",
   "metadata": {},
   "source": [
    "One graph node with ID 137800826759552 failed. This is the `model.conv2` layer, which is now inconsistent with the pruned `model.conv1` layer. The input channels of the `model.conv2` layer should be reduced to match the output channels of the `model.conv1` layer."
   ]
  },
  {
   "cell_type": "code",
   "execution_count": 10,
   "metadata": {},
   "outputs": [
    {
     "name": "stdout",
     "output_type": "stream",
     "text": [
      "Before Pruning: Conv2d(6, 16, kernel_size=(5, 5), stride=(1, 1))\n",
      "After Pruning: Conv2d(4, 16, kernel_size=(5, 5), stride=(1, 1))\n"
     ]
    }
   ],
   "source": [
    "# Prune output channels of conv1 layer of the model and verfy the model\n",
    "num_channels_prune = 2\n",
    "\n",
    "# Prune the model\n",
    "print(\"Before Pruning:\", model.conv2)\n",
    "pruned_mod, _, _ = prune_input_channels_by_rms(\n",
    "    model.conv2,\n",
    "    conv_channelwise_rms(model.conv2, rms_dim=\"ip_channels\"),\n",
    "    num_channels_prune,\n",
    ")\n",
    "\n",
    "print(\"After Pruning:\", pruned_mod)"
   ]
  },
  {
   "cell_type": "markdown",
   "metadata": {},
   "source": [
    "We can verify the model consistency again:"
   ]
  },
  {
   "cell_type": "code",
   "execution_count": 11,
   "metadata": {},
   "outputs": [
    {
     "name": "stdout",
     "output_type": "stream",
     "text": [
      "None\n"
     ]
    }
   ],
   "source": [
    "failed_node = verify_model(model, torch.randn(input_shape), graph)\n",
    "print(failed_node)"
   ]
  },
  {
   "cell_type": "markdown",
   "metadata": {},
   "source": [
    "This time, the model is consistent after channel pruning. The `model.conv2` layer now has 4 input channels, which matches the output channels of the `model.conv1` layer."
   ]
  },
  {
   "cell_type": "markdown",
   "metadata": {},
   "source": [
    "### Global Pruning\n",
    "- **Random**: Randomly zeroes out a fraction of weights across the entire network.\n",
    "- **Global Magnitude**: Prunes the least important weights across the entire network based on their absolute values.\n",
    "- **Global Magnitude-Gradient**: Prunes weights globally based on a combination of their absolute values and gradients.\n",
    "- **Global Activation-Magnitude**: Prunes weights globally based on a combination of their absolute values and corresponding activations.\n",
    "\n",
    "### Layerwise (Local) Pruning\n",
    "- **Layerwise Magnitude**: Prunes the least important weights within each individual layer based on their absolute values.\n",
    "- **Layerwise Magnitude-Gradient**: Prunes weights within each layer based on a combination of their absolute values and gradients.\n",
    "- **Layerwise Activation-Magnitude**: Prunes weights within each layer based on a combination of their absolute values and corresponding activations."
   ]
  }
 ],
 "metadata": {
  "kernelspec": {
   "display_name": "Python 3",
   "language": "python",
   "name": "python3"
  },
  "language_info": {
   "codemirror_mode": {
    "name": "ipython",
    "version": 3
   },
   "file_extension": ".py",
   "mimetype": "text/x-python",
   "name": "python",
   "nbconvert_exporter": "python",
   "pygments_lexer": "ipython3",
   "version": "3.10.12"
  },
  "orig_nbformat": 4
 },
 "nbformat": 4,
 "nbformat_minor": 2
}
